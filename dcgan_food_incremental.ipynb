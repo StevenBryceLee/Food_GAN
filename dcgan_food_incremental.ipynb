{
  "nbformat": 4,
  "nbformat_minor": 0,
  "metadata": {
    "accelerator": "GPU",
    "colab": {
      "name": "dcgan_food_incremental.ipynb",
      "provenance": [],
      "collapsed_sections": []
    },
    "kernelspec": {
      "display_name": "Python 3",
      "language": "python",
      "name": "python3"
    },
    "language_info": {
      "codemirror_mode": {
        "name": "ipython",
        "version": 3
      },
      "file_extension": ".py",
      "mimetype": "text/x-python",
      "name": "python",
      "nbconvert_exporter": "python",
      "pygments_lexer": "ipython3",
      "version": "3.6.12"
    }
  },
  "cells": [
    {
      "cell_type": "code",
      "metadata": {
        "id": "2RrrSBHXxaWa"
      },
      "source": [
        "%matplotlib inline"
      ],
      "execution_count": null,
      "outputs": []
    },
    {
      "cell_type": "code",
      "metadata": {
        "colab": {
          "base_uri": "https://localhost:8080/"
        },
        "id": "Rwy88AEExlAa",
        "outputId": "8f890383-5ebb-4eb4-8ad1-ba17519fd649"
      },
      "source": [
        "!pip install -qqq wandb\n",
        "!wandb login"
      ],
      "execution_count": null,
      "outputs": [
        {
          "output_type": "stream",
          "text": [
            "\u001b[K     |████████████████████████████████| 1.8MB 22.6MB/s \n",
            "\u001b[K     |████████████████████████████████| 102kB 12.4MB/s \n",
            "\u001b[K     |████████████████████████████████| 174kB 50.1MB/s \n",
            "\u001b[K     |████████████████████████████████| 133kB 42.4MB/s \n",
            "\u001b[K     |████████████████████████████████| 71kB 10.8MB/s \n",
            "\u001b[?25h  Building wheel for subprocess32 (setup.py) ... \u001b[?25l\u001b[?25hdone\n",
            "  Building wheel for pathtools (setup.py) ... \u001b[?25l\u001b[?25hdone\n",
            "\u001b[34m\u001b[1mwandb\u001b[0m: You can find your API key in your browser here: https://wandb.ai/authorize\n",
            "\u001b[34m\u001b[1mwandb\u001b[0m: Paste an API key from your profile and hit enter: \n",
            "\u001b[34m\u001b[1mwandb\u001b[0m: Appending key for api.wandb.ai to your netrc file: /root/.netrc\n"
          ],
          "name": "stdout"
        }
      ]
    },
    {
      "cell_type": "code",
      "metadata": {
        "colab": {
          "base_uri": "https://localhost:8080/"
        },
        "id": "iuDSMowexaWf",
        "outputId": "27cf66f5-5f82-4b86-b3c2-9070158b1183"
      },
      "source": [
        "from __future__ import print_function\n",
        "#%matplotlib inline\n",
        "import argparse\n",
        "import os\n",
        "import random\n",
        "import torch\n",
        "import torch.nn as nn\n",
        "import torch.nn.parallel\n",
        "import torch.backends.cudnn as cudnn\n",
        "import torch.optim as optim\n",
        "import torch.utils.data\n",
        "import torchvision.datasets as dset\n",
        "import torchvision.transforms as transforms\n",
        "import torchvision.utils as vutils\n",
        "import numpy as np\n",
        "import matplotlib.pyplot as plt\n",
        "import matplotlib.animation as animation\n",
        "from IPython.display import HTML\n",
        "import warnings\n",
        "from fastai import *\n",
        "from fastai.vision import *\n",
        "from fastai.vision.gan import *\n",
        "import wandb\n",
        "from wandb.fastai import WandbCallback\n",
        "\n",
        "\n",
        "warnings.filterwarnings('ignore')\n",
        "\n",
        "# Set random seed for reproducibility\n",
        "manualSeed = 999\n",
        "#manualSeed = random.randint(1, 10000) # use if you want new results\n",
        "print(\"Random Seed: \", manualSeed)\n",
        "random.seed(manualSeed)\n",
        "torch.manual_seed(manualSeed)"
      ],
      "execution_count": null,
      "outputs": [
        {
          "output_type": "stream",
          "text": [
            "Random Seed:  999\n"
          ],
          "name": "stdout"
        },
        {
          "output_type": "execute_result",
          "data": {
            "text/plain": [
              "<torch._C.Generator at 0x7fd93e64a9d0>"
            ]
          },
          "metadata": {
            "tags": []
          },
          "execution_count": 3
        }
      ]
    },
    {
      "cell_type": "code",
      "metadata": {
        "colab": {
          "base_uri": "https://localhost:8080/",
          "height": 34
        },
        "id": "-K6zTQWCxhzh",
        "outputId": "d13c14eb-e1c7-4df3-bd1e-0326b2218aa5"
      },
      "source": [
        "path = untar_data(URLs.FOOD)"
      ],
      "execution_count": null,
      "outputs": [
        {
          "output_type": "stream",
          "text": [
            "Downloading https://s3.amazonaws.com/fast-ai-imageclas/food-101.tgz\n"
          ],
          "name": "stdout"
        },
        {
          "output_type": "display_data",
          "data": {
            "text/html": [
              ""
            ],
            "text/plain": [
              "<IPython.core.display.HTML object>"
            ]
          },
          "metadata": {
            "tags": []
          }
        }
      ]
    },
    {
      "cell_type": "code",
      "metadata": {
        "colab": {
          "base_uri": "https://localhost:8080/"
        },
        "id": "DeQNu5mHxpUb",
        "outputId": "14802ed6-aead-4b0b-9683-90e6cf5a6e3e"
      },
      "source": [
        "path.ls()"
      ],
      "execution_count": null,
      "outputs": [
        {
          "output_type": "execute_result",
          "data": {
            "text/plain": [
              "[PosixPath('/root/.fastai/data/food-101/classes.txt'),\n",
              " PosixPath('/root/.fastai/data/food-101/test.txt'),\n",
              " PosixPath('/root/.fastai/data/food-101/test.json'),\n",
              " PosixPath('/root/.fastai/data/food-101/train.json'),\n",
              " PosixPath('/root/.fastai/data/food-101/labels.txt'),\n",
              " PosixPath('/root/.fastai/data/food-101/train.txt'),\n",
              " PosixPath('/root/.fastai/data/food-101/images'),\n",
              " PosixPath('/root/.fastai/data/food-101/h5')]"
            ]
          },
          "metadata": {
            "tags": []
          },
          "execution_count": 5
        }
      ]
    },
    {
      "cell_type": "code",
      "metadata": {
        "id": "rtpGAsohxaWg"
      },
      "source": [
        "# Root directory for dataset\n",
        "dataroot = path/'images'\n",
        "\n",
        "# Number of workers for dataloader\n",
        "workers = 2\n",
        "\n",
        "# Batch size during training\n",
        "# batch_size = 128\n",
        "\n",
        "# Spatial size of training images. All images will be resized to this\n",
        "#   size using a transformer.\n",
        "image_size = 64\n",
        "\n",
        "# Number of channels in the training images. For color images this is 3\n",
        "nc = 3\n",
        "\n",
        "# Size of z latent vector (i.e. size of generator input)\n",
        "# nz = 100\n",
        "# latent_vector = 100\n",
        "\n",
        "# Size of feature maps in generator\n",
        "ngf = 64\n",
        "\n",
        "# Size of feature maps in discriminator\n",
        "ndf = 64\n",
        "\n",
        "# Number of training epochs\n",
        "num_epochs = 25\n",
        "\n",
        "# Learning rate for optimizers\n",
        "# lr = 0.0002\n",
        "\n",
        "# Beta1 hyperparam for Adam optimizers\n",
        "beta1 = 0.5\n",
        "\n",
        "# Number of GPUs available. Use 0 for CPU mode.\n",
        "ngpu = 1"
      ],
      "execution_count": null,
      "outputs": []
    },
    {
      "cell_type": "markdown",
      "metadata": {
        "id": "xKAgKUCWxaWh"
      },
      "source": [
        "Data\n",
        "----\n",
        "\n",
        "In this tutorial we will use the `Celeb-A Faces\n",
        "dataset <http://mmlab.ie.cuhk.edu.hk/projects/CelebA.html>`__ which can\n",
        "be downloaded at the linked site, or in `Google\n",
        "Drive <https://drive.google.com/drive/folders/0B7EVK8r0v71pTUZsaXdaSnZBZzg>`__.\n",
        "The dataset will download as a file named *img_align_celeba.zip*. Once\n",
        "downloaded, create a directory named *celeba* and extract the zip file\n",
        "into that directory. Then, set the *dataroot* input for this notebook to\n",
        "the *celeba* directory you just created. The resulting directory\n",
        "structure should be:\n",
        "\n",
        "::\n",
        "\n",
        "   /path/to/celeba\n",
        "       -> img_align_celeba  \n",
        "           -> 188242.jpg\n",
        "           -> 173822.jpg\n",
        "           -> 284702.jpg\n",
        "           -> 537394.jpg\n",
        "              ...\n",
        "\n",
        "This is an important step because we will be using the ImageFolder\n",
        "dataset class, which requires there to be subdirectories in the\n",
        "dataset’s root folder. Now, we can create the dataset, create the\n",
        "dataloader, set the device to run on, and finally visualize some of the\n",
        "training data.\n",
        "\n",
        "\n"
      ]
    },
    {
      "cell_type": "code",
      "metadata": {
        "id": "gQLKZgxwxaWh"
      },
      "source": [
        "def get_dataset(dataroot, batch_size):\n",
        "    # We can use an image folder dataset the way we have it setup.\n",
        "    # Create the dataset\n",
        "    dataset = dset.ImageFolder(root=dataroot,\n",
        "                            transform=transforms.Compose([\n",
        "                                transforms.Resize(image_size),\n",
        "                                transforms.CenterCrop(image_size),\n",
        "                                transforms.ToTensor(),\n",
        "                                transforms.Normalize((0.5, 0.5, 0.5), (0.5, 0.5, 0.5)),\n",
        "                            ]))\n",
        "    # Create the dataloader\n",
        "    dataloader = torch.utils.data.DataLoader(dataset, batch_size=batch_size,\n",
        "                                            shuffle=True, num_workers=workers)\n",
        "    \n",
        "    return dataloader\n",
        "\n",
        "\n",
        "\n",
        "# Plot some training images\n",
        "# real_batch = next(iter(dataloader))\n",
        "# plt.figure(figsize=(8,8))\n",
        "# plt.axis(\"off\")\n",
        "# plt.title(\"Training Images\")\n",
        "# plt.imshow(np.transpose(vutils.make_grid(real_batch[0].to(device)[:64], padding=2, normalize=True).cpu(),(1,2,0)))"
      ],
      "execution_count": null,
      "outputs": []
    },
    {
      "cell_type": "markdown",
      "metadata": {
        "id": "K2qh_nr4xaWh"
      },
      "source": [
        "Implementation\n",
        "--------------\n",
        "\n",
        "With our input parameters set and the dataset prepared, we can now get\n",
        "into the implementation. We will start with the weight initialization\n",
        "strategy, then talk about the generator, discriminator, loss functions,\n",
        "and training loop in detail.\n",
        "\n",
        "Weight Initialization\n",
        "~~~~~~~~~~~~~~~~~~~~~\n",
        "\n",
        "From the DCGAN paper, the authors specify that all model weights shall\n",
        "be randomly initialized from a Normal distribution with mean=0,\n",
        "stdev=0.02. The ``weights_init`` function takes an initialized model as\n",
        "input and reinitializes all convolutional, convolutional-transpose, and\n",
        "batch normalization layers to meet this criteria. This function is\n",
        "applied to the models immediately after initialization.\n",
        "\n",
        "\n"
      ]
    },
    {
      "cell_type": "code",
      "metadata": {
        "id": "zkrqt6VvxaWi"
      },
      "source": [
        "# custom weights initialization called on netG and netD\n",
        "def weights_init(m):\n",
        "    classname = m.__class__.__name__\n",
        "    if classname.find('Conv') != -1:\n",
        "        nn.init.normal_(m.weight.data, 0.0, 0.02)\n",
        "    elif classname.find('BatchNorm') != -1:\n",
        "        nn.init.normal_(m.weight.data, 1.0, 0.02)\n",
        "        nn.init.constant_(m.bias.data, 0)"
      ],
      "execution_count": null,
      "outputs": []
    },
    {
      "cell_type": "markdown",
      "metadata": {
        "id": "mxl31XnnxaWi"
      },
      "source": [
        "Generator\n",
        "~~~~~~~~~\n",
        "\n",
        "The generator, $G$, is designed to map the latent space vector\n",
        "($z$) to data-space. Since our data are images, converting\n",
        "$z$ to data-space means ultimately creating a RGB image with the\n",
        "same size as the training images (i.e. 3x64x64). In practice, this is\n",
        "accomplished through a series of strided two dimensional convolutional\n",
        "transpose layers, each paired with a 2d batch norm layer and a relu\n",
        "activation. The output of the generator is fed through a tanh function\n",
        "to return it to the input data range of $[-1,1]$. It is worth\n",
        "noting the existence of the batch norm functions after the\n",
        "conv-transpose layers, as this is a critical contribution of the DCGAN\n",
        "paper. These layers help with the flow of gradients during training. An\n",
        "image of the generator from the DCGAN paper is shown below.\n",
        "\n",
        ".. figure:: /_static/img/dcgan_generator.png\n",
        "   :alt: dcgan_generator\n",
        "\n",
        "Notice, the how the inputs we set in the input section (*nz*, *ngf*, and\n",
        "*nc*) influence the generator architecture in code. *nz* is the length\n",
        "of the z input vector, *ngf* relates to the size of the feature maps\n",
        "that are propagated through the generator, and *nc* is the number of\n",
        "channels in the output image (set to 3 for RGB images). Below is the\n",
        "code for the generator.\n",
        "\n",
        "\n"
      ]
    },
    {
      "cell_type": "code",
      "metadata": {
        "id": "wshEbbuvxaWi"
      },
      "source": [
        "# Generator Code\n",
        "\n",
        "class Generator(nn.Module):\n",
        "    def __init__(self, ngpu, latent_vector):\n",
        "        super(Generator, self).__init__()\n",
        "        self.ngpu = ngpu\n",
        "        self.main = nn.Sequential(\n",
        "            # input is Z, going into a convolution\n",
        "            nn.ConvTranspose2d( latent_vector, ngf * 8, 4, 1, 0, bias=False),\n",
        "            nn.BatchNorm2d(ngf * 8),\n",
        "            nn.ReLU(True),\n",
        "            # state size. (ngf*8) x 4 x 4\n",
        "            nn.ConvTranspose2d(ngf * 8, ngf * 4, 4, 2, 1, bias=False),\n",
        "            nn.BatchNorm2d(ngf * 4),\n",
        "            nn.ReLU(True),\n",
        "            # state size. (ngf*4) x 8 x 8\n",
        "            nn.ConvTranspose2d( ngf * 4, ngf * 2, 4, 2, 1, bias=False),\n",
        "            nn.BatchNorm2d(ngf * 2),\n",
        "            nn.ReLU(True),\n",
        "            # state size. (ngf*2) x 16 x 16\n",
        "            nn.ConvTranspose2d( ngf * 2, ngf, 4, 2, 1, bias=False),\n",
        "            nn.BatchNorm2d(ngf),\n",
        "            nn.ReLU(True),\n",
        "            # state size. (ngf) x 32 x 32\n",
        "            nn.ConvTranspose2d( ngf, nc, 4, 2, 1, bias=False),\n",
        "            nn.Tanh()\n",
        "            # state size. (nc) x 64 x 64\n",
        "        )\n",
        "\n",
        "    def forward(self, input):\n",
        "        return self.main(input)"
      ],
      "execution_count": null,
      "outputs": []
    },
    {
      "cell_type": "code",
      "metadata": {
        "id": "9u_Ak2dZxaWj"
      },
      "source": [
        "def get_generator(latent_vector):\n",
        "    # Create the generator\n",
        "    netG = Generator(ngpu, latent_vector).to(device)\n",
        "\n",
        "    # Handle multi-gpu if desired\n",
        "    if (device.type == 'cuda') and (ngpu > 1):\n",
        "        netG = nn.DataParallel(netG, list(range(ngpu)))\n",
        "\n",
        "    # Apply the weights_init function to randomly initialize all weights\n",
        "    #  to mean=0, stdev=0.2.\n",
        "    netG.apply(weights_init)\n",
        "\n",
        "    return netG\n",
        "\n",
        "# Print the model\n",
        "# print(netG)"
      ],
      "execution_count": null,
      "outputs": []
    },
    {
      "cell_type": "code",
      "metadata": {
        "id": "ysAnCzTfxaWk"
      },
      "source": [
        "class Discriminator(nn.Module):\n",
        "    def __init__(self, ngpu):\n",
        "        super(Discriminator, self).__init__()\n",
        "        self.ngpu = ngpu\n",
        "        self.main = nn.Sequential(\n",
        "            # input is (nc) x 64 x 64\n",
        "            nn.Conv2d(nc, ndf, 4, 2, 1, bias=False),\n",
        "            nn.LeakyReLU(0.2, inplace=True),\n",
        "            # state size. (ndf) x 32 x 32\n",
        "            nn.Conv2d(ndf, ndf * 2, 4, 2, 1, bias=False),\n",
        "            nn.BatchNorm2d(ndf * 2),\n",
        "            nn.LeakyReLU(0.2, inplace=True),\n",
        "            # state size. (ndf*2) x 16 x 16\n",
        "            nn.Conv2d(ndf * 2, ndf * 4, 4, 2, 1, bias=False),\n",
        "            nn.BatchNorm2d(ndf * 4),\n",
        "            nn.LeakyReLU(0.2, inplace=True),\n",
        "            # state size. (ndf*4) x 8 x 8\n",
        "            nn.Conv2d(ndf * 4, ndf * 8, 4, 2, 1, bias=False),\n",
        "            nn.BatchNorm2d(ndf * 8),\n",
        "            nn.LeakyReLU(0.2, inplace=True),\n",
        "            # state size. (ndf*8) x 4 x 4\n",
        "            nn.Conv2d(ndf * 8, 1, 4, 1, 0, bias=False),\n",
        "            nn.Sigmoid()\n",
        "        )\n",
        "\n",
        "    def forward(self, input):\n",
        "        return self.main(input)"
      ],
      "execution_count": null,
      "outputs": []
    },
    {
      "cell_type": "code",
      "metadata": {
        "id": "1vnTOqcyxaWk"
      },
      "source": [
        "def get_discriminator():\n",
        "    # Create the Discriminator\n",
        "    netD = Discriminator(ngpu).to(device)\n",
        "\n",
        "    # Handle multi-gpu if desired\n",
        "    if (device.type == 'cuda') and (ngpu > 1):\n",
        "        netD = nn.DataParallel(netD, list(range(ngpu)))\n",
        "        \n",
        "    # Apply the weights_init function to randomly initialize all weights\n",
        "    #  to mean=0, stdev=0.2.\n",
        "    netD.apply(weights_init)\n",
        "\n",
        "    return netD\n",
        "\n",
        "# Print the model\n",
        "# print(netD)"
      ],
      "execution_count": null,
      "outputs": []
    },
    {
      "cell_type": "code",
      "metadata": {
        "id": "c6qt1U9kxaWk"
      },
      "source": [
        "# Setup Adam optimizers for both G and D\n",
        "# optimizerD = optim.Adam(netD.parameters(), lr=lr, betas=(beta1, 0.999))\n",
        "# optimizerG = optim.Adam(netG.parameters(), lr=lr, betas=(beta1, 0.999))"
      ],
      "execution_count": null,
      "outputs": []
    },
    {
      "cell_type": "code",
      "metadata": {
        "id": "cwwqXib8VL_G"
      },
      "source": [
        "def get_optimizer(network, optimizer, learning_rate):\n",
        "    if optimizer == \"sgd\":\n",
        "        optimizer = optim.SGD(network.parameters(),\n",
        "                              lr=learning_rate, momentum=0.9)\n",
        "    elif optimizer == \"adam\":\n",
        "        optimizer = optim.Adam(network.parameters(), lr=learning_rate, \n",
        "                               betas=(beta1, 0.999))\n",
        "    return optimizer"
      ],
      "execution_count": null,
      "outputs": []
    },
    {
      "cell_type": "code",
      "metadata": {
        "id": "KpfyjWd2bFF2"
      },
      "source": [
        "# Establish convention for real and fake labels during training\n",
        "real_label = 1.\n",
        "fake_label = 0."
      ],
      "execution_count": null,
      "outputs": []
    },
    {
      "cell_type": "code",
      "metadata": {
        "id": "ZvYPmKFiC4t9"
      },
      "source": [
        "sweep_config = {\n",
        "    'method': 'random'\n",
        "    }\n",
        "metric = {\n",
        "    'name': 'discriminator_loss',\n",
        "    'goal': 'minimize'   \n",
        "    }\n",
        "\n",
        "sweep_config['metric'] = metric\n",
        "parameters_dict = {\n",
        "    'optimizer': {\n",
        "        'values': ['adam'\n",
        "                    # , 'sgd'\n",
        "                    ]\n",
        "        },\n",
        "    'learning_rate': {\n",
        "        'values': [1e-3, 1e-4, 1e-5]\n",
        "        },\n",
        "    'batch_size': {\n",
        "        'values': [2 ** x for x in range(6,9)]\n",
        "    },\n",
        "    'latent_vector': {\n",
        "        'values': list(range(50,200,50))\n",
        "    }\n",
        "    }\n",
        "\n",
        "sweep_config['parameters'] = parameters_dict"
      ],
      "execution_count": null,
      "outputs": []
    },
    {
      "cell_type": "code",
      "metadata": {
        "colab": {
          "base_uri": "https://localhost:8080/"
        },
        "id": "Gyh1CapeCvaG",
        "outputId": "9601fc77-286d-44e8-e351-27d78ecd228d"
      },
      "source": [
        "sweep_id = wandb.sweep(sweep_config, project=\"fastai-food-GAN\")"
      ],
      "execution_count": null,
      "outputs": [
        {
          "output_type": "stream",
          "text": [
            "Create sweep with ID: pstasjn3\n",
            "Sweep URL: https://wandb.ai/steeven/fastai-food-GAN/sweeps/pstasjn3\n"
          ],
          "name": "stdout"
        }
      ]
    },
    {
      "cell_type": "code",
      "metadata": {
        "id": "p6ap3aSfmqw4"
      },
      "source": [
        "device = torch.device(\"cuda:0\" if (torch.cuda.is_available() and ngpu > 0) else \"cpu\")"
      ],
      "execution_count": null,
      "outputs": []
    },
    {
      "cell_type": "code",
      "metadata": {
        "id": "-b4lwqruxaWl"
      },
      "source": [
        "def train(config = None):\n",
        "    # Decide which device we want to run on\n",
        "    # Training Loop\n",
        "    with wandb.init(config=config):\n",
        "        # Lists to keep track of progress\n",
        "        img_list = []\n",
        "        G_losses = []\n",
        "        D_losses = []\n",
        "        iters = 0\n",
        "        \n",
        "        config = wandb.config\n",
        "\n",
        "        dataloader = get_dataset(dataroot, config.batch_size)\n",
        "        netD = get_discriminator()\n",
        "        netG = get_generator(config.latent_vector)\n",
        "\n",
        "        # Create batch of latent vectors that we will use to visualize\n",
        "        #  the progression of the generator\n",
        "        fixed_noise = torch.randn(64, config.latent_vector, 1, 1, device=device)\n",
        "\n",
        "        # Initialize BCELoss function\n",
        "        criterion = nn.BCELoss()\n",
        "\n",
        "        # optimizerD = optim.Adam(netD.parameters(), lr=lr, betas=(beta1, 0.999))\n",
        "        # optimizerG = optim.Adam(netG.parameters(), lr=lr, betas=(beta1, 0.999))\n",
        "\n",
        "        optimizerD = get_optimizer(netD, config.optimizer, config.learning_rate)\n",
        "        optimizerG = get_optimizer(netG, config.optimizer, config.learning_rate)\n",
        "\n",
        "        # wandb.init(project=\"fastai-food-GAN\")\n",
        "        \n",
        "        # For each epoch\n",
        "        for epoch in range(num_epochs):\n",
        "            # For each batch in the dataloader\n",
        "            for i, data in enumerate(dataloader, 0):\n",
        "                \n",
        "                ############################\n",
        "                # (1) Update D network: maximize log(D(x)) + log(1 - D(G(z)))\n",
        "                ###########################\n",
        "                ## Train with all-real batch\n",
        "                netD.zero_grad()\n",
        "                # Format batch\n",
        "                real_cpu = data[0].to(device)\n",
        "                b_size = real_cpu.size(0)\n",
        "                label = torch.full((b_size,), real_label, dtype=torch.float, device=device)\n",
        "                # Forward pass real batch through D\n",
        "                output = netD(real_cpu).view(-1)\n",
        "                # Calculate loss on all-real batch\n",
        "                errD_real = criterion(output, label)\n",
        "                # Calculate gradients for D in backward pass\n",
        "                errD_real.backward()\n",
        "                D_x = output.mean().item()\n",
        "\n",
        "                ## Train with all-fake batch\n",
        "                # Generate batch of latent vectors\n",
        "                noise = torch.randn(b_size, config.latent_vector, 1, 1, device=device)\n",
        "                # Generate fake image batch with G\n",
        "                fake = netG(noise)\n",
        "                label.fill_(fake_label)\n",
        "                # Classify all fake batch with D\n",
        "                output = netD(fake.detach()).view(-1)\n",
        "                # Calculate D's loss on the all-fake batch\n",
        "                errD_fake = criterion(output, label)\n",
        "                # Calculate the gradients for this batch, accumulated (summed) with previous gradients\n",
        "                errD_fake.backward()\n",
        "                D_G_z1 = output.mean().item()\n",
        "                # Compute error of D as sum over the fake and the real batches\n",
        "                errD = errD_real + errD_fake\n",
        "                # Update D\n",
        "                optimizerD.step()\n",
        "\n",
        "                ############################\n",
        "                # (2) Update G network: maximize log(D(G(z)))\n",
        "                ###########################\n",
        "                netG.zero_grad()\n",
        "                label.fill_(real_label)  # fake labels are real for generator cost\n",
        "                # Since we just updated D, perform another forward pass of all-fake batch through D\n",
        "                output = netD(fake).view(-1)\n",
        "                # Calculate G's loss based on this output\n",
        "                errG = criterion(output, label)\n",
        "                # Calculate gradients for G\n",
        "                errG.backward()\n",
        "                D_G_z2 = output.mean().item()\n",
        "                # Update G\n",
        "                optimizerG.step()\n",
        "                \n",
        "                # Output training stats\n",
        "                if i % 50 == 0:\n",
        "                    print('[%d/%d][%d/%d]\\tLoss_D: %.4f\\tLoss_G: %.4f\\tD(x): %.4f\\tD(G(z)): %.4f / %.4f'\n",
        "                        % (epoch, num_epochs, i, len(dataloader),\n",
        "                            errD.item(), errG.item(), D_x, D_G_z1, D_G_z2))\n",
        "                    wandb.log({\"Discriminator loss\": errD.item(), \n",
        "                               \"Generator loss\": errG.item(),\n",
        "                               \"D_x\": D_x,\n",
        "                               \"D_G_z1\": D_G_z1,\n",
        "                               \"D_G_z2\": D_G_z2\n",
        "                               })\n",
        "                if errG.item() < 1e-10:\n",
        "                    return\n",
        "                \n",
        "                # Check how the generator is doing by saving G's output on fixed_noise\n",
        "                if (iters % 500 == 0) or ((epoch == num_epochs-1) and (i == len(dataloader)-1)):\n",
        "                    with torch.no_grad():\n",
        "                        fake = netG(fixed_noise).detach().cpu()\n",
        "                    vutil_grid = vutils.make_grid(fake, padding=2, normalize=True)\n",
        "                    img_list.append(vutil_grid)\n",
        "                    wandb.log({\"grid\": vutil_grid})\n",
        "                    wandb.log({\"grid_image\": plt.imshow(np.transpose(vutil_grid,(1,2,0)),\n",
        "                                                        animated=True)})\n",
        "                    \n",
        "                iters += 1\n",
        "        \n",
        "        fig = plt.figure(figsize=(8,8))\n",
        "        plt.axis(\"off\")\n",
        "        ims = [[plt.imshow(np.transpose(i,(1,2,0)), animated=True)] for i in img_list]\n",
        "        ani = animation.ArtistAnimation(fig, ims, interval=1000, repeat_delay=1000, blit=True)\n",
        "        wandb.log({'improvement lapse': wandb.Html(HTML(ani.to_jshtml()))})\n",
        "        "
      ],
      "execution_count": null,
      "outputs": []
    },
    {
      "cell_type": "code",
      "metadata": {
        "colab": {
          "base_uri": "https://localhost:8080/",
          "height": 1000
        },
        "id": "JTEje-nfDoE-",
        "outputId": "318535f6-aa26-4e54-ba97-e8515646754d"
      },
      "source": [
        "wandb.agent(sweep_id, train, count=5)"
      ],
      "execution_count": null,
      "outputs": [
        {
          "output_type": "stream",
          "text": [
            "\u001b[34m\u001b[1mwandb\u001b[0m: Agent Starting Run: qsnhosor with config:\n",
            "\u001b[34m\u001b[1mwandb\u001b[0m: \tbatch_size: 256\n",
            "\u001b[34m\u001b[1mwandb\u001b[0m: \tlatent_vector: 50\n",
            "\u001b[34m\u001b[1mwandb\u001b[0m: \tlearning_rate: 0.0001\n",
            "\u001b[34m\u001b[1mwandb\u001b[0m: \toptimizer: adam\n"
          ],
          "name": "stderr"
        },
        {
          "output_type": "display_data",
          "data": {
            "text/html": [
              "\n",
              "                Tracking run with wandb version 0.10.30<br/>\n",
              "                Syncing run <strong style=\"color:#cdcd00\">flowing-sweep-1</strong> to <a href=\"https://wandb.ai\" target=\"_blank\">Weights & Biases</a> <a href=\"https://docs.wandb.com/integrations/jupyter.html\" target=\"_blank\">(Documentation)</a>.<br/>\n",
              "                Project page: <a href=\"https://wandb.ai/steeven/fastai-food-GAN\" target=\"_blank\">https://wandb.ai/steeven/fastai-food-GAN</a><br/>\n",
              "                Sweep page: <a href=\"https://wandb.ai/steeven/fastai-food-GAN/sweeps/pstasjn3\" target=\"_blank\">https://wandb.ai/steeven/fastai-food-GAN/sweeps/pstasjn3</a><br/>\n",
              "Run page: <a href=\"https://wandb.ai/steeven/fastai-food-GAN/runs/qsnhosor\" target=\"_blank\">https://wandb.ai/steeven/fastai-food-GAN/runs/qsnhosor</a><br/>\n",
              "                Run data is saved locally in <code>/content/wandb/run-20210524_002738-qsnhosor</code><br/><br/>\n",
              "            "
            ],
            "text/plain": [
              "<IPython.core.display.HTML object>"
            ]
          },
          "metadata": {
            "tags": []
          }
        },
        {
          "output_type": "stream",
          "text": [
            "[0/25][0/395]\tLoss_D: 1.4503\tLoss_G: 2.7766\tD(x): 0.4901\tD(G(z)): 0.3947 / 0.0899\n",
            "[0/25][50/395]\tLoss_D: 0.1757\tLoss_G: 9.5008\tD(x): 0.9378\tD(G(z)): 0.0950 / 0.0001\n",
            "[0/25][100/395]\tLoss_D: 0.0540\tLoss_G: 8.5766\tD(x): 0.9793\tD(G(z)): 0.0281 / 0.0002\n",
            "[0/25][150/395]\tLoss_D: 0.0271\tLoss_G: 6.6794\tD(x): 0.9804\tD(G(z)): 0.0047 / 0.0014\n",
            "[0/25][200/395]\tLoss_D: 0.0919\tLoss_G: 10.0000\tD(x): 0.9996\tD(G(z)): 0.0862 / 0.0001\n",
            "[0/25][250/395]\tLoss_D: 0.0646\tLoss_G: 5.9513\tD(x): 0.9702\tD(G(z)): 0.0230 / 0.0032\n",
            "[0/25][300/395]\tLoss_D: 3.5412\tLoss_G: 5.5805\tD(x): 0.2020\tD(G(z)): 0.0000 / 0.1406\n",
            "[0/25][350/395]\tLoss_D: 0.1152\tLoss_G: 9.9154\tD(x): 0.9874\tD(G(z)): 0.0929 / 0.0001\n",
            "[1/25][0/395]\tLoss_D: 0.3031\tLoss_G: 6.4871\tD(x): 0.9821\tD(G(z)): 0.1383 / 0.0116\n",
            "[1/25][50/395]\tLoss_D: 0.5592\tLoss_G: 7.1056\tD(x): 0.9658\tD(G(z)): 0.3454 / 0.0019\n",
            "[1/25][100/395]\tLoss_D: 3.1382\tLoss_G: 9.0078\tD(x): 0.1603\tD(G(z)): 0.0000 / 0.0011\n",
            "[1/25][150/395]\tLoss_D: 0.4148\tLoss_G: 4.1550\tD(x): 0.8225\tD(G(z)): 0.1282 / 0.0224\n",
            "[1/25][200/395]\tLoss_D: 0.3688\tLoss_G: 4.5763\tD(x): 0.7594\tD(G(z)): 0.0249 / 0.0165\n",
            "[1/25][250/395]\tLoss_D: 0.2077\tLoss_G: 5.1754\tD(x): 0.9079\tD(G(z)): 0.0883 / 0.0085\n",
            "[1/25][300/395]\tLoss_D: 0.3657\tLoss_G: 6.2409\tD(x): 0.8942\tD(G(z)): 0.1920 / 0.0033\n",
            "[1/25][350/395]\tLoss_D: 0.4142\tLoss_G: 5.2567\tD(x): 0.7446\tD(G(z)): 0.0223 / 0.0123\n",
            "[2/25][0/395]\tLoss_D: 0.1912\tLoss_G: 4.5017\tD(x): 0.9213\tD(G(z)): 0.0899 / 0.0191\n",
            "[2/25][50/395]\tLoss_D: 0.2380\tLoss_G: 5.1974\tD(x): 0.9227\tD(G(z)): 0.1275 / 0.0097\n",
            "[2/25][100/395]\tLoss_D: 0.8282\tLoss_G: 6.5333\tD(x): 0.5575\tD(G(z)): 0.0016 / 0.0034\n",
            "[2/25][150/395]\tLoss_D: 0.1557\tLoss_G: 4.5143\tD(x): 0.8976\tD(G(z)): 0.0274 / 0.0227\n",
            "[2/25][200/395]\tLoss_D: 0.2742\tLoss_G: 3.3757\tD(x): 0.8371\tD(G(z)): 0.0503 / 0.0534\n",
            "[2/25][250/395]\tLoss_D: 0.3210\tLoss_G: 6.3496\tD(x): 0.9769\tD(G(z)): 0.2309 / 0.0035\n",
            "[2/25][300/395]\tLoss_D: 0.1786\tLoss_G: 4.0361\tD(x): 0.9198\tD(G(z)): 0.0768 / 0.0276\n",
            "[2/25][350/395]\tLoss_D: 0.3130\tLoss_G: 3.2832\tD(x): 0.8462\tD(G(z)): 0.1004 / 0.0521\n",
            "[3/25][0/395]\tLoss_D: 0.2988\tLoss_G: 4.1215\tD(x): 0.8582\tD(G(z)): 0.0963 / 0.0308\n",
            "[3/25][50/395]\tLoss_D: 0.3018\tLoss_G: 4.4335\tD(x): 0.8735\tD(G(z)): 0.1325 / 0.0203\n",
            "[3/25][100/395]\tLoss_D: 0.4491\tLoss_G: 3.4007\tD(x): 0.7260\tD(G(z)): 0.0442 / 0.0513\n",
            "[3/25][150/395]\tLoss_D: 0.4415\tLoss_G: 2.6010\tD(x): 0.7413\tD(G(z)): 0.0673 / 0.1152\n",
            "[3/25][200/395]\tLoss_D: 0.2996\tLoss_G: 5.0982\tD(x): 0.8116\tD(G(z)): 0.0295 / 0.0135\n",
            "[3/25][250/395]\tLoss_D: 0.2761\tLoss_G: 4.1105\tD(x): 0.8795\tD(G(z)): 0.1050 / 0.0260\n",
            "[3/25][300/395]\tLoss_D: 0.2610\tLoss_G: 4.4681\tD(x): 0.8552\tD(G(z)): 0.0744 / 0.0204\n",
            "[3/25][350/395]\tLoss_D: 0.2448\tLoss_G: 4.2571\tD(x): 0.9228\tD(G(z)): 0.1326 / 0.0228\n",
            "[4/25][0/395]\tLoss_D: 4.2875\tLoss_G: 2.9516\tD(x): 0.0549\tD(G(z)): 0.0000 / 0.1670\n",
            "[4/25][50/395]\tLoss_D: 0.2519\tLoss_G: 5.6271\tD(x): 0.9291\tD(G(z)): 0.1371 / 0.0081\n",
            "[4/25][100/395]\tLoss_D: 0.3272\tLoss_G: 5.1693\tD(x): 0.9123\tD(G(z)): 0.1842 / 0.0113\n",
            "[4/25][150/395]\tLoss_D: 0.7895\tLoss_G: 2.5239\tD(x): 0.6154\tD(G(z)): 0.1257 / 0.1342\n",
            "[4/25][200/395]\tLoss_D: 0.2217\tLoss_G: 3.9860\tD(x): 0.9057\tD(G(z)): 0.0995 / 0.0301\n",
            "[4/25][250/395]\tLoss_D: 0.3938\tLoss_G: 4.7310\tD(x): 0.8708\tD(G(z)): 0.1832 / 0.0159\n",
            "[4/25][300/395]\tLoss_D: 0.1818\tLoss_G: 4.1671\tD(x): 0.8943\tD(G(z)): 0.0541 / 0.0274\n",
            "[4/25][350/395]\tLoss_D: 1.0731\tLoss_G: 5.9636\tD(x): 0.4361\tD(G(z)): 0.0010 / 0.0072\n",
            "[5/25][0/395]\tLoss_D: 0.3834\tLoss_G: 2.9032\tD(x): 0.7497\tD(G(z)): 0.0356 / 0.0808\n",
            "[5/25][50/395]\tLoss_D: 0.7538\tLoss_G: 8.0084\tD(x): 0.9496\tD(G(z)): 0.4237 / 0.0008\n",
            "[5/25][100/395]\tLoss_D: 0.4900\tLoss_G: 3.5079\tD(x): 0.7887\tD(G(z)): 0.1722 / 0.0489\n",
            "[5/25][150/395]\tLoss_D: 0.3375\tLoss_G: 3.1468\tD(x): 0.8303\tD(G(z)): 0.1054 / 0.0673\n",
            "[5/25][200/395]\tLoss_D: 0.3109\tLoss_G: 4.5877\tD(x): 0.9090\tD(G(z)): 0.1661 / 0.0185\n",
            "[5/25][250/395]\tLoss_D: 0.3026\tLoss_G: 3.7965\tD(x): 0.8791\tD(G(z)): 0.1277 / 0.0381\n",
            "[5/25][300/395]\tLoss_D: 0.3119\tLoss_G: 3.6651\tD(x): 0.8811\tD(G(z)): 0.1422 / 0.0424\n",
            "[5/25][350/395]\tLoss_D: 0.5628\tLoss_G: 5.0188\tD(x): 0.9825\tD(G(z)): 0.3576 / 0.0146\n",
            "[6/25][0/395]\tLoss_D: 0.3275\tLoss_G: 3.9753\tD(x): 0.8576\tD(G(z)): 0.1235 / 0.0344\n",
            "[6/25][50/395]\tLoss_D: 0.4872\tLoss_G: 1.9210\tD(x): 0.7000\tD(G(z)): 0.0632 / 0.1918\n",
            "[6/25][100/395]\tLoss_D: 0.3657\tLoss_G: 2.6898\tD(x): 0.7572\tD(G(z)): 0.0436 / 0.1105\n",
            "[6/25][150/395]\tLoss_D: 0.2987\tLoss_G: 3.5706\tD(x): 0.8573\tD(G(z)): 0.1018 / 0.0475\n",
            "[6/25][200/395]\tLoss_D: 0.3525\tLoss_G: 3.3988\tD(x): 0.8682\tD(G(z)): 0.1629 / 0.0527\n",
            "[6/25][250/395]\tLoss_D: 0.3141\tLoss_G: 3.1737\tD(x): 0.8018\tD(G(z)): 0.0608 / 0.0680\n",
            "[6/25][300/395]\tLoss_D: 0.2174\tLoss_G: 4.6322\tD(x): 0.9433\tD(G(z)): 0.1350 / 0.0159\n",
            "[6/25][350/395]\tLoss_D: 0.2997\tLoss_G: 3.8391\tD(x): 0.9267\tD(G(z)): 0.1777 / 0.0389\n",
            "[7/25][0/395]\tLoss_D: 0.3891\tLoss_G: 2.3140\tD(x): 0.7628\tD(G(z)): 0.0693 / 0.1367\n",
            "[7/25][50/395]\tLoss_D: 0.3499\tLoss_G: 3.1579\tD(x): 0.7917\tD(G(z)): 0.0657 / 0.0741\n",
            "[7/25][100/395]\tLoss_D: 0.2928\tLoss_G: 3.1206\tD(x): 0.8895\tD(G(z)): 0.1406 / 0.0663\n",
            "[7/25][150/395]\tLoss_D: 1.3711\tLoss_G: 1.4940\tD(x): 0.3448\tD(G(z)): 0.0029 / 0.2965\n",
            "[7/25][200/395]\tLoss_D: 0.2949\tLoss_G: 3.9926\tD(x): 0.9107\tD(G(z)): 0.1602 / 0.0304\n",
            "[7/25][250/395]\tLoss_D: 0.2849\tLoss_G: 3.0543\tD(x): 0.8497\tD(G(z)): 0.0916 / 0.0767\n",
            "[7/25][300/395]\tLoss_D: 0.2979\tLoss_G: 4.4323\tD(x): 0.9371\tD(G(z)): 0.1872 / 0.0200\n",
            "[7/25][350/395]\tLoss_D: 0.3347\tLoss_G: 3.3765\tD(x): 0.9093\tD(G(z)): 0.1858 / 0.0596\n",
            "[8/25][0/395]\tLoss_D: 0.2856\tLoss_G: 2.9356\tD(x): 0.8499\tD(G(z)): 0.0848 / 0.0818\n",
            "[8/25][50/395]\tLoss_D: 0.3078\tLoss_G: 3.7193\tD(x): 0.9570\tD(G(z)): 0.2085 / 0.0382\n",
            "[8/25][100/395]\tLoss_D: 0.2123\tLoss_G: 3.7591\tD(x): 0.8975\tD(G(z)): 0.0832 / 0.0421\n",
            "[8/25][150/395]\tLoss_D: 0.4863\tLoss_G: 5.1234\tD(x): 0.9027\tD(G(z)): 0.2665 / 0.0144\n",
            "[8/25][200/395]\tLoss_D: 0.5652\tLoss_G: 4.5787\tD(x): 0.9217\tD(G(z)): 0.3414 / 0.0184\n",
            "[8/25][250/395]\tLoss_D: 0.4344\tLoss_G: 2.6484\tD(x): 0.8127\tD(G(z)): 0.1645 / 0.1029\n",
            "[8/25][300/395]\tLoss_D: 0.3451\tLoss_G: 3.8310\tD(x): 0.9271\tD(G(z)): 0.2125 / 0.0340\n",
            "[8/25][350/395]\tLoss_D: 0.2266\tLoss_G: 3.6021\tD(x): 0.8893\tD(G(z)): 0.0866 / 0.0445\n",
            "[9/25][0/395]\tLoss_D: 0.4034\tLoss_G: 2.4907\tD(x): 0.7315\tD(G(z)): 0.0446 / 0.1264\n",
            "[9/25][50/395]\tLoss_D: 5.0693\tLoss_G: 10.3631\tD(x): 0.9993\tD(G(z)): 0.9643 / 0.0008\n",
            "[9/25][100/395]\tLoss_D: 0.3522\tLoss_G: 4.0285\tD(x): 0.9269\tD(G(z)): 0.2207 / 0.0272\n",
            "[9/25][150/395]\tLoss_D: 0.2012\tLoss_G: 3.4059\tD(x): 0.9009\tD(G(z)): 0.0747 / 0.0514\n",
            "[9/25][200/395]\tLoss_D: 0.2435\tLoss_G: 3.4221\tD(x): 0.9221\tD(G(z)): 0.1315 / 0.0509\n",
            "[9/25][250/395]\tLoss_D: 0.3059\tLoss_G: 2.6115\tD(x): 0.8626\tD(G(z)): 0.1244 / 0.1061\n",
            "[9/25][300/395]\tLoss_D: 0.3055\tLoss_G: 3.6704\tD(x): 0.8683\tD(G(z)): 0.1247 / 0.0427\n",
            "[9/25][350/395]\tLoss_D: 0.8785\tLoss_G: 2.3076\tD(x): 0.4960\tD(G(z)): 0.0105 / 0.1454\n",
            "[10/25][0/395]\tLoss_D: 0.2961\tLoss_G: 2.6826\tD(x): 0.8511\tD(G(z)): 0.1062 / 0.0967\n",
            "[10/25][50/395]\tLoss_D: 0.7607\tLoss_G: 0.3963\tD(x): 0.5395\tD(G(z)): 0.0177 / 0.7077\n",
            "[10/25][100/395]\tLoss_D: 0.3025\tLoss_G: 3.3567\tD(x): 0.8773\tD(G(z)): 0.1413 / 0.0507\n",
            "[10/25][150/395]\tLoss_D: 0.2754\tLoss_G: 2.8145\tD(x): 0.8457\tD(G(z)): 0.0833 / 0.0882\n",
            "[10/25][200/395]\tLoss_D: 0.4430\tLoss_G: 2.8226\tD(x): 0.8163\tD(G(z)): 0.1769 / 0.0840\n",
            "[10/25][250/395]\tLoss_D: 0.4169\tLoss_G: 3.0727\tD(x): 0.7688\tD(G(z)): 0.0984 / 0.0750\n",
            "[10/25][300/395]\tLoss_D: 0.4568\tLoss_G: 1.9860\tD(x): 0.7300\tD(G(z)): 0.0834 / 0.1846\n",
            "[10/25][350/395]\tLoss_D: 0.4470\tLoss_G: 3.1646\tD(x): 0.8915\tD(G(z)): 0.2525 / 0.0640\n",
            "[11/25][0/395]\tLoss_D: 0.7398\tLoss_G: 5.1535\tD(x): 0.9264\tD(G(z)): 0.4247 / 0.0124\n",
            "[11/25][50/395]\tLoss_D: 0.3910\tLoss_G: 2.5569\tD(x): 0.7704\tD(G(z)): 0.0879 / 0.1159\n",
            "[11/25][100/395]\tLoss_D: 0.3410\tLoss_G: 3.1204\tD(x): 0.8008\tD(G(z)): 0.0808 / 0.0738\n",
            "[11/25][150/395]\tLoss_D: 0.3470\tLoss_G: 2.7357\tD(x): 0.9011\tD(G(z)): 0.1884 / 0.0993\n",
            "[11/25][200/395]\tLoss_D: 0.4348\tLoss_G: 2.5618\tD(x): 0.7582\tD(G(z)): 0.1006 / 0.1167\n",
            "[11/25][250/395]\tLoss_D: 0.3593\tLoss_G: 2.9877\tD(x): 0.8355\tD(G(z)): 0.1383 / 0.0778\n",
            "[11/25][300/395]\tLoss_D: 0.3412\tLoss_G: 2.8043\tD(x): 0.8861\tD(G(z)): 0.1796 / 0.0847\n",
            "[11/25][350/395]\tLoss_D: 0.4461\tLoss_G: 3.6381\tD(x): 0.8976\tD(G(z)): 0.2578 / 0.0403\n",
            "[12/25][0/395]\tLoss_D: 0.6633\tLoss_G: 1.9130\tD(x): 0.6735\tD(G(z)): 0.1543 / 0.1922\n",
            "[12/25][50/395]\tLoss_D: 0.4908\tLoss_G: 3.1544\tD(x): 0.8806\tD(G(z)): 0.2755 / 0.0612\n",
            "[12/25][100/395]\tLoss_D: 0.5756\tLoss_G: 1.6565\tD(x): 0.6640\tD(G(z)): 0.0857 / 0.2390\n",
            "[12/25][150/395]\tLoss_D: 0.5445\tLoss_G: 2.1433\tD(x): 0.6572\tD(G(z)): 0.0473 / 0.1620\n",
            "[12/25][200/395]\tLoss_D: 0.5842\tLoss_G: 3.5462\tD(x): 0.8906\tD(G(z)): 0.3280 / 0.0446\n",
            "[12/25][250/395]\tLoss_D: 0.6296\tLoss_G: 3.3176\tD(x): 0.8226\tD(G(z)): 0.3053 / 0.0569\n",
            "[12/25][300/395]\tLoss_D: 0.5929\tLoss_G: 3.2772\tD(x): 0.9097\tD(G(z)): 0.3418 / 0.0596\n",
            "[12/25][350/395]\tLoss_D: 0.6149\tLoss_G: 1.5600\tD(x): 0.6280\tD(G(z)): 0.0621 / 0.2581\n",
            "[13/25][0/395]\tLoss_D: 0.7480\tLoss_G: 1.8377\tD(x): 0.7050\tD(G(z)): 0.2439 / 0.2310\n",
            "[13/25][50/395]\tLoss_D: 0.4132\tLoss_G: 2.7861\tD(x): 0.8288\tD(G(z)): 0.1734 / 0.0925\n",
            "[13/25][100/395]\tLoss_D: 0.6897\tLoss_G: 2.5404\tD(x): 0.7934\tD(G(z)): 0.3045 / 0.1147\n",
            "[13/25][150/395]\tLoss_D: 0.3905\tLoss_G: 2.8656\tD(x): 0.7883\tD(G(z)): 0.1148 / 0.0885\n",
            "[13/25][200/395]\tLoss_D: 0.6929\tLoss_G: 1.8889\tD(x): 0.5777\tD(G(z)): 0.0571 / 0.1974\n",
            "[13/25][250/395]\tLoss_D: 1.3406\tLoss_G: 4.6452\tD(x): 0.9752\tD(G(z)): 0.6619 / 0.0165\n",
            "[13/25][300/395]\tLoss_D: 0.4674\tLoss_G: 2.5637\tD(x): 0.8350\tD(G(z)): 0.2216 / 0.1074\n",
            "[13/25][350/395]\tLoss_D: 0.4723\tLoss_G: 2.5648\tD(x): 0.8470\tD(G(z)): 0.2377 / 0.1021\n",
            "[14/25][0/395]\tLoss_D: 1.3552\tLoss_G: 2.2796\tD(x): 0.3468\tD(G(z)): 0.0197 / 0.1954\n",
            "[14/25][50/395]\tLoss_D: 0.4632\tLoss_G: 2.4848\tD(x): 0.8529\tD(G(z)): 0.2356 / 0.1114\n",
            "[14/25][100/395]\tLoss_D: 0.6815\tLoss_G: 1.4421\tD(x): 0.6338\tD(G(z)): 0.1208 / 0.3049\n",
            "[14/25][150/395]\tLoss_D: 0.4626\tLoss_G: 2.7093\tD(x): 0.9068\tD(G(z)): 0.2779 / 0.0937\n",
            "[14/25][200/395]\tLoss_D: 0.5360\tLoss_G: 3.4275\tD(x): 0.9255\tD(G(z)): 0.3379 / 0.0446\n",
            "[14/25][250/395]\tLoss_D: 0.6854\tLoss_G: 4.0958\tD(x): 0.9514\tD(G(z)): 0.4250 / 0.0269\n",
            "[14/25][300/395]\tLoss_D: 0.4853\tLoss_G: 3.3332\tD(x): 0.8639\tD(G(z)): 0.2600 / 0.0490\n",
            "[14/25][350/395]\tLoss_D: 0.4050\tLoss_G: 3.0264\tD(x): 0.8593\tD(G(z)): 0.2015 / 0.0682\n",
            "[15/25][0/395]\tLoss_D: 0.3982\tLoss_G: 2.7086\tD(x): 0.8807\tD(G(z)): 0.2142 / 0.0942\n",
            "[15/25][50/395]\tLoss_D: 0.4622\tLoss_G: 3.5418\tD(x): 0.9181\tD(G(z)): 0.2866 / 0.0415\n",
            "[15/25][100/395]\tLoss_D: 0.4614\tLoss_G: 2.9414\tD(x): 0.8518\tD(G(z)): 0.2361 / 0.0703\n",
            "[15/25][150/395]\tLoss_D: 0.7603\tLoss_G: 1.8679\tD(x): 0.6552\tD(G(z)): 0.2306 / 0.2083\n",
            "[15/25][200/395]\tLoss_D: 0.5617\tLoss_G: 2.0926\tD(x): 0.8075\tD(G(z)): 0.2550 / 0.1616\n",
            "[15/25][250/395]\tLoss_D: 0.4942\tLoss_G: 2.3026\tD(x): 0.8209\tD(G(z)): 0.2301 / 0.1337\n",
            "[15/25][300/395]\tLoss_D: 1.0674\tLoss_G: 3.7759\tD(x): 0.8591\tD(G(z)): 0.5493 / 0.0329\n",
            "[15/25][350/395]\tLoss_D: 1.5753\tLoss_G: 1.0995\tD(x): 0.2664\tD(G(z)): 0.0210 / 0.4088\n",
            "[16/25][0/395]\tLoss_D: 0.5345\tLoss_G: 1.8767\tD(x): 0.7290\tD(G(z)): 0.1572 / 0.1903\n",
            "[16/25][50/395]\tLoss_D: 0.6243\tLoss_G: 2.8553\tD(x): 0.8786\tD(G(z)): 0.3494 / 0.0827\n",
            "[16/25][100/395]\tLoss_D: 0.5969\tLoss_G: 3.4084\tD(x): 0.9001\tD(G(z)): 0.3609 / 0.0445\n",
            "[16/25][150/395]\tLoss_D: 0.6603\tLoss_G: 3.5183\tD(x): 0.9478\tD(G(z)): 0.4167 / 0.0429\n",
            "[16/25][200/395]\tLoss_D: 0.8933\tLoss_G: 4.1404\tD(x): 0.8878\tD(G(z)): 0.4863 / 0.0240\n",
            "[16/25][250/395]\tLoss_D: 6.1728\tLoss_G: 4.5138\tD(x): 0.9985\tD(G(z)): 0.9955 / 0.0224\n",
            "[16/25][300/395]\tLoss_D: 0.5909\tLoss_G: 2.0260\tD(x): 0.7326\tD(G(z)): 0.2064 / 0.1630\n",
            "[16/25][350/395]\tLoss_D: 0.5071\tLoss_G: 2.3187\tD(x): 0.8257\tD(G(z)): 0.2442 / 0.1261\n",
            "[17/25][0/395]\tLoss_D: 0.5193\tLoss_G: 2.8041\tD(x): 0.8171\tD(G(z)): 0.2428 / 0.0859\n",
            "[17/25][50/395]\tLoss_D: 3.3833\tLoss_G: 0.8032\tD(x): 0.0590\tD(G(z)): 0.0060 / 0.5192\n",
            "[17/25][100/395]\tLoss_D: 0.4667\tLoss_G: 2.1866\tD(x): 0.8256\tD(G(z)): 0.2117 / 0.1416\n",
            "[17/25][150/395]\tLoss_D: 0.3749\tLoss_G: 2.6570\tD(x): 0.8080\tD(G(z)): 0.1282 / 0.0936\n",
            "[17/25][200/395]\tLoss_D: 0.9158\tLoss_G: 3.0090\tD(x): 0.7084\tD(G(z)): 0.3781 / 0.0723\n",
            "[17/25][250/395]\tLoss_D: 0.4182\tLoss_G: 1.9968\tD(x): 0.8173\tD(G(z)): 0.1742 / 0.1721\n",
            "[17/25][300/395]\tLoss_D: 1.8384\tLoss_G: 1.1579\tD(x): 0.2449\tD(G(z)): 0.0510 / 0.3825\n",
            "[17/25][350/395]\tLoss_D: 0.7682\tLoss_G: 1.1466\tD(x): 0.5893\tD(G(z)): 0.1523 / 0.3648\n",
            "[18/25][0/395]\tLoss_D: 0.5117\tLoss_G: 1.6620\tD(x): 0.7490\tD(G(z)): 0.1691 / 0.2313\n",
            "[18/25][50/395]\tLoss_D: 0.4401\tLoss_G: 2.6830\tD(x): 0.8565\tD(G(z)): 0.2263 / 0.0911\n",
            "[18/25][100/395]\tLoss_D: 0.5912\tLoss_G: 2.0645\tD(x): 0.7257\tD(G(z)): 0.1999 / 0.1611\n",
            "[18/25][150/395]\tLoss_D: 0.6426\tLoss_G: 1.7192\tD(x): 0.5933\tD(G(z)): 0.0585 / 0.2257\n",
            "[18/25][200/395]\tLoss_D: 0.8040\tLoss_G: 1.1584\tD(x): 0.5105\tD(G(z)): 0.0407 / 0.3644\n",
            "[18/25][250/395]\tLoss_D: 0.5318\tLoss_G: 1.9286\tD(x): 0.7418\tD(G(z)): 0.1737 / 0.1792\n",
            "[18/25][300/395]\tLoss_D: 0.4985\tLoss_G: 2.9074\tD(x): 0.8520\tD(G(z)): 0.2649 / 0.0713\n",
            "[18/25][350/395]\tLoss_D: 0.4445\tLoss_G: 2.0347\tD(x): 0.8001\tD(G(z)): 0.1758 / 0.1624\n",
            "[19/25][0/395]\tLoss_D: 0.5803\tLoss_G: 3.4664\tD(x): 0.8117\tD(G(z)): 0.2697 / 0.0492\n",
            "[19/25][50/395]\tLoss_D: 0.8265\tLoss_G: 3.4848\tD(x): 0.8938\tD(G(z)): 0.4723 / 0.0434\n",
            "[19/25][100/395]\tLoss_D: 0.5060\tLoss_G: 2.7808\tD(x): 0.8710\tD(G(z)): 0.2849 / 0.0801\n",
            "[19/25][150/395]\tLoss_D: 0.7892\tLoss_G: 3.2119\tD(x): 0.8526\tD(G(z)): 0.4235 / 0.0564\n",
            "[19/25][200/395]\tLoss_D: 0.6208\tLoss_G: 3.0887\tD(x): 0.9157\tD(G(z)): 0.3766 / 0.0636\n",
            "[19/25][250/395]\tLoss_D: 0.5977\tLoss_G: 1.5052\tD(x): 0.6937\tD(G(z)): 0.1703 / 0.2636\n",
            "[19/25][300/395]\tLoss_D: 1.0010\tLoss_G: 3.0762\tD(x): 0.9387\tD(G(z)): 0.5513 / 0.0649\n",
            "[19/25][350/395]\tLoss_D: 0.5369\tLoss_G: 2.1725\tD(x): 0.7845\tD(G(z)): 0.2175 / 0.1514\n",
            "[20/25][0/395]\tLoss_D: 0.5188\tLoss_G: 2.6114\tD(x): 0.8356\tD(G(z)): 0.2625 / 0.0940\n",
            "[20/25][50/395]\tLoss_D: 0.5411\tLoss_G: 3.0870\tD(x): 0.8174\tD(G(z)): 0.2540 / 0.0630\n",
            "[20/25][100/395]\tLoss_D: 0.4086\tLoss_G: 2.2774\tD(x): 0.8519\tD(G(z)): 0.2013 / 0.1310\n",
            "[20/25][150/395]\tLoss_D: 0.6361\tLoss_G: 1.1578\tD(x): 0.6396\tD(G(z)): 0.1246 / 0.3602\n",
            "[20/25][200/395]\tLoss_D: 0.4873\tLoss_G: 2.2765\tD(x): 0.8333\tD(G(z)): 0.2412 / 0.1302\n",
            "[20/25][250/395]\tLoss_D: 0.3751\tLoss_G: 2.5843\tD(x): 0.8946\tD(G(z)): 0.2155 / 0.1005\n",
            "[20/25][300/395]\tLoss_D: 0.4756\tLoss_G: 2.8299\tD(x): 0.8953\tD(G(z)): 0.2783 / 0.0804\n",
            "[20/25][350/395]\tLoss_D: 0.5029\tLoss_G: 2.9558\tD(x): 0.8571\tD(G(z)): 0.2674 / 0.0707\n",
            "[21/25][0/395]\tLoss_D: 0.5726\tLoss_G: 3.6107\tD(x): 0.9051\tD(G(z)): 0.3507 / 0.0364\n",
            "[21/25][50/395]\tLoss_D: 0.6257\tLoss_G: 2.9523\tD(x): 0.8636\tD(G(z)): 0.3517 / 0.0679\n",
            "[21/25][100/395]\tLoss_D: 0.5227\tLoss_G: 2.1795\tD(x): 0.7434\tD(G(z)): 0.1720 / 0.1480\n",
            "[21/25][150/395]\tLoss_D: 0.4729\tLoss_G: 2.8709\tD(x): 0.8928\tD(G(z)): 0.2700 / 0.0796\n",
            "[21/25][200/395]\tLoss_D: 0.4945\tLoss_G: 1.9294\tD(x): 0.7303\tD(G(z)): 0.1358 / 0.1804\n"
          ],
          "name": "stdout"
        }
      ]
    },
    {
      "cell_type": "code",
      "metadata": {
        "id": "rMY26O6AA_Sm"
      },
      "source": [
        "# train()"
      ],
      "execution_count": null,
      "outputs": []
    },
    {
      "cell_type": "markdown",
      "metadata": {
        "id": "P7vu3CSsxaWl"
      },
      "source": [
        "Results\n",
        "-------\n",
        "\n",
        "Finally, lets check out how we did. Here, we will look at three\n",
        "different results. First, we will see how D and G’s losses changed\n",
        "during training. Second, we will visualize G’s output on the fixed_noise\n",
        "batch for every epoch. And third, we will look at a batch of real data\n",
        "next to a batch of fake data from G.\n",
        "\n",
        "**Loss versus training iteration**\n",
        "\n",
        "Below is a plot of D & G’s losses versus training iterations.\n",
        "\n",
        "\n"
      ]
    },
    {
      "cell_type": "code",
      "metadata": {
        "colab": {
          "base_uri": "https://localhost:8080/",
          "height": 550
        },
        "id": "whxDERnUxaWl",
        "outputId": "ebd4ffde-d522-4641-a930-fce75898b570"
      },
      "source": [
        "# plt.figure(figsize=(10,5))\n",
        "# plt.title(\"Generator and Discriminator Loss During Training\")\n",
        "# plt.plot(G_losses,label=\"G\")\n",
        "# plt.plot(D_losses,label=\"D\")\n",
        "# plt.xlabel(\"iterations\")\n",
        "# plt.ylabel(\"Loss\")\n",
        "# plt.legend()\n",
        "# plt.show()"
      ],
      "execution_count": null,
      "outputs": [
        {
          "output_type": "error",
          "ename": "NameError",
          "evalue": "ignored",
          "traceback": [
            "\u001b[0;31m---------------------------------------------------------------------------\u001b[0m",
            "\u001b[0;31mNameError\u001b[0m                                 Traceback (most recent call last)",
            "\u001b[0;32m<ipython-input-21-d07468057dfa>\u001b[0m in \u001b[0;36m<module>\u001b[0;34m()\u001b[0m\n\u001b[1;32m      1\u001b[0m \u001b[0mplt\u001b[0m\u001b[0;34m.\u001b[0m\u001b[0mfigure\u001b[0m\u001b[0;34m(\u001b[0m\u001b[0mfigsize\u001b[0m\u001b[0;34m=\u001b[0m\u001b[0;34m(\u001b[0m\u001b[0;36m10\u001b[0m\u001b[0;34m,\u001b[0m\u001b[0;36m5\u001b[0m\u001b[0;34m)\u001b[0m\u001b[0;34m)\u001b[0m\u001b[0;34m\u001b[0m\u001b[0;34m\u001b[0m\u001b[0m\n\u001b[1;32m      2\u001b[0m \u001b[0mplt\u001b[0m\u001b[0;34m.\u001b[0m\u001b[0mtitle\u001b[0m\u001b[0;34m(\u001b[0m\u001b[0;34m\"Generator and Discriminator Loss During Training\"\u001b[0m\u001b[0;34m)\u001b[0m\u001b[0;34m\u001b[0m\u001b[0;34m\u001b[0m\u001b[0m\n\u001b[0;32m----> 3\u001b[0;31m \u001b[0mplt\u001b[0m\u001b[0;34m.\u001b[0m\u001b[0mplot\u001b[0m\u001b[0;34m(\u001b[0m\u001b[0mG_losses\u001b[0m\u001b[0;34m,\u001b[0m\u001b[0mlabel\u001b[0m\u001b[0;34m=\u001b[0m\u001b[0;34m\"G\"\u001b[0m\u001b[0;34m)\u001b[0m\u001b[0;34m\u001b[0m\u001b[0;34m\u001b[0m\u001b[0m\n\u001b[0m\u001b[1;32m      4\u001b[0m \u001b[0mplt\u001b[0m\u001b[0;34m.\u001b[0m\u001b[0mplot\u001b[0m\u001b[0;34m(\u001b[0m\u001b[0mD_losses\u001b[0m\u001b[0;34m,\u001b[0m\u001b[0mlabel\u001b[0m\u001b[0;34m=\u001b[0m\u001b[0;34m\"D\"\u001b[0m\u001b[0;34m)\u001b[0m\u001b[0;34m\u001b[0m\u001b[0;34m\u001b[0m\u001b[0m\n\u001b[1;32m      5\u001b[0m \u001b[0mplt\u001b[0m\u001b[0;34m.\u001b[0m\u001b[0mxlabel\u001b[0m\u001b[0;34m(\u001b[0m\u001b[0;34m\"iterations\"\u001b[0m\u001b[0;34m)\u001b[0m\u001b[0;34m\u001b[0m\u001b[0;34m\u001b[0m\u001b[0m\n",
            "\u001b[0;31mNameError\u001b[0m: name 'G_losses' is not defined"
          ]
        },
        {
          "output_type": "display_data",
          "data": {
            "image/png": "[encoded data removed]",
            "text/plain": [
              "<Figure size 720x360 with 1 Axes>"
            ]
          },
          "metadata": {
            "tags": [],
            "needs_background": "light"
          }
        }
      ]
    },
    {
      "cell_type": "markdown",
      "metadata": {
        "id": "VGcu8O2kxaWm"
      },
      "source": [
        "**Visualization of G’s progression**\n",
        "\n",
        "Remember how we saved the generator’s output on the fixed_noise batch\n",
        "after every epoch of training. Now, we can visualize the training\n",
        "progression of G with an animation. Press the play button to start the\n",
        "animation.\n",
        "\n",
        "\n"
      ]
    },
    {
      "cell_type": "code",
      "metadata": {
        "id": "D_q1_HfvxaWm"
      },
      "source": [
        "#%%capture\n",
        "fig = plt.figure(figsize=(8,8))\n",
        "plt.axis(\"off\")\n",
        "ims = [[plt.imshow(np.transpose(i,(1,2,0)), animated=True)] for i in img_list]\n",
        "ani = animation.ArtistAnimation(fig, ims, interval=1000, repeat_delay=1000, blit=True)\n",
        "\n",
        "HTML(ani.to_jshtml())"
      ],
      "execution_count": null,
      "outputs": []
    },
    {
      "cell_type": "markdown",
      "metadata": {
        "id": "TE1vaQDvxaWm"
      },
      "source": [
        "**Real Images vs. Fake Images**\n",
        "\n",
        "Finally, lets take a look at some real images and fake images side by\n",
        "side.\n",
        "\n",
        "\n"
      ]
    },
    {
      "cell_type": "code",
      "metadata": {
        "id": "dCF1D3a4xaWn"
      },
      "source": [
        "# Grab a batch of real images from the dataloader\n",
        "real_batch = next(iter(dataloader))\n",
        "\n",
        "# Plot the real images\n",
        "plt.figure(figsize=(30,30))\n",
        "plt.subplot(1,2,1)\n",
        "plt.axis(\"off\")\n",
        "plt.title(\"Real Images\")\n",
        "plt.imshow(np.transpose(vutils.make_grid(real_batch[0].to(device)[:64], padding=5, normalize=True).cpu(),(1,2,0)))\n",
        "\n",
        "# Plot the fake images from the last epoch\n",
        "plt.subplot(1,2,2)\n",
        "plt.axis(\"off\")\n",
        "plt.title(\"Fake Images\")\n",
        "plt.imshow(np.transpose(img_list[-1],(1,2,0)))\n",
        "plt.show()"
      ],
      "execution_count": null,
      "outputs": []
    },
    {
      "cell_type": "markdown",
      "metadata": {
        "id": "Zr-0Qh0TxaWn"
      },
      "source": [
        "Where to Go Next\n",
        "----------------\n",
        "\n",
        "We have reached the end of our journey, but there are several places you\n",
        "could go from here. You could:\n",
        "\n",
        "-  Train for longer to see how good the results get\n",
        "-  Modify this model to take a different dataset and possibly change the\n",
        "   size of the images and the model architecture\n",
        "-  Check out some other cool GAN projects\n",
        "   `here <https://github.com/nashory/gans-awesome-applications>`__\n",
        "-  Create GANs that generate\n",
        "   `music <https://deepmind.com/blog/wavenet-generative-model-raw-audio/>`__\n",
        "\n",
        "\n"
      ]
    }
  ]
}